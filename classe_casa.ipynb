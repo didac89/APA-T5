{
 "cells": [
  {
   "cell_type": "code",
   "execution_count": null,
   "metadata": {},
   "outputs": [],
   "source": [
    "import struct as st\n",
    "\n",
    "def read_wave(wav_file):\n",
    "    with open(wav_file,\"rb\") as fp_wave:\n",
    "        format = \"<4sI4s\"\n",
    "        buffer = fp_wave.read(st.calcsize(format))\n",
    "        chunck_id, chunk_size, riff_format = st.unpack(format, buffer)\n",
    "        if chunck_id != \"RIFF\" or riff_format != \"WAVE\" :\n",
    "            raise TypeError(f\"File '{wav_file}' is not a wave file\")\n",
    "        else:\n",
    "            print(f\"{wav_file}:{chunck_id = }\\t\")"
   ]
  },
  {
   "cell_type": "code",
   "execution_count": null,
   "metadata": {},
   "outputs": [],
   "source": [
    "\"no val com practica 5\"\n",
    "import struct as st\n",
    "\n",
    "def read_wave(wave_file):\n",
    "    with open(wave_file, \"rb\") as fp_wave:\n",
    "        format = \"<4sI4s\"\n",
    "        buffer = fp_wave.read(st.calcsize(format))\n",
    "        chunk_id, chunk_size, riff_format = st.unpack(format,buffer)\n",
    "        if chunk_id != b\"RIFF\" or riff_format != b\"wave\":\n",
    "            raise TypeError(f\"File '{wave_file}' is not a wave file\")\n",
    "        fp_wave.seek(36,0)\n",
    "        format = \"<4sI\"\n",
    "        buffer = fp_wave.read(st.calcsize(format))\n",
    "        subchunck2_id, subchunck2_size = st.unpack(format, buffer)\n",
    "        \n",
    "        \"hacemos trampa, sabemos que los datos son int16\"\n",
    "        sample_num = subchunck2_size // 2\n",
    "        format = f\"<{sample_num}h\" \n",
    "        buffer = fp_wave.read(st.calcsize(format))\n",
    "        data = st.unpack(format,buffer)\n",
    "\n",
    "        return data"
   ]
  },
  {
   "cell_type": "code",
   "execution_count": null,
   "metadata": {},
   "outputs": [],
   "source": [
    "def write_wave(fileout, data):\n",
    "    with open(fileout, \"wb\") as fp_out:\n",
    "        format 0\n",
    "\n",
    "def diezma(filein, fileout):\n",
    "    data = read_wave(filein)\n",
    "    data = data[::2]\n",
    "    write_wave(fileout, data)\n"
   ]
  }
 ],
 "metadata": {
  "language_info": {
   "name": "python"
  }
 },
 "nbformat": 4,
 "nbformat_minor": 2
}
